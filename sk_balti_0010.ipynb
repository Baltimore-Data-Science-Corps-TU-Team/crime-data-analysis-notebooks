{
 "cells": [
  {
   "cell_type": "markdown",
   "metadata": {},
   "source": [
    "time/neighborhood -> call type"
   ]
  },
  {
   "cell_type": "code",
   "execution_count": 1,
   "metadata": {},
   "outputs": [],
   "source": [
    "import numpy as np\n",
    "import pandas as pd\n",
    "import matplotlib.pyplot as plt\n",
    "from sklearn.linear_model import LinearRegression\n",
    "from sklearn.model_selection import train_test_split"
   ]
  },
  {
   "cell_type": "code",
   "execution_count": 2,
   "metadata": {},
   "outputs": [],
   "source": [
    "dat = pd.read_csv('dat/911_Police_Calls_for_Service.csv', low_memory=False)"
   ]
  },
  {
   "cell_type": "code",
   "execution_count": 3,
   "metadata": {},
   "outputs": [
    {
     "data": {
      "text/html": [
       "<div>\n",
       "<style scoped>\n",
       "    .dataframe tbody tr th:only-of-type {\n",
       "        vertical-align: middle;\n",
       "    }\n",
       "\n",
       "    .dataframe tbody tr th {\n",
       "        vertical-align: top;\n",
       "    }\n",
       "\n",
       "    .dataframe thead th {\n",
       "        text-align: right;\n",
       "    }\n",
       "</style>\n",
       "<table border=\"1\" class=\"dataframe\">\n",
       "  <thead>\n",
       "    <tr style=\"text-align: right;\">\n",
       "      <th></th>\n",
       "      <th>RecordID</th>\n",
       "      <th>CallNumber</th>\n",
       "      <th>CallDateTime</th>\n",
       "      <th>Priority</th>\n",
       "      <th>District</th>\n",
       "      <th>Description</th>\n",
       "      <th>IncidentLocation</th>\n",
       "      <th>ZipCode</th>\n",
       "      <th>Neighborhood</th>\n",
       "      <th>PoliceDistrict</th>\n",
       "      <th>PolicePost</th>\n",
       "      <th>CouncilDistrict</th>\n",
       "      <th>SheriffDistricts</th>\n",
       "      <th>Community_Statistical_Areas</th>\n",
       "      <th>Census_Tracts</th>\n",
       "      <th>VRIZones</th>\n",
       "      <th>Location</th>\n",
       "      <th>2010 Census Neighborhoods</th>\n",
       "      <th>2010 Census Wards Precincts</th>\n",
       "      <th>Zip Codes</th>\n",
       "    </tr>\n",
       "  </thead>\n",
       "  <tbody>\n",
       "    <tr>\n",
       "      <th>0</th>\n",
       "      <td>2333660</td>\n",
       "      <td>P163072128</td>\n",
       "      <td>11/02/2016 04:46:00 PM</td>\n",
       "      <td>Medium</td>\n",
       "      <td>SD</td>\n",
       "      <td>NARCOTICSOutside</td>\n",
       "      <td>1200 W CROSS ST</td>\n",
       "      <td>21230.0</td>\n",
       "      <td>Washington Village/Pigtown</td>\n",
       "      <td>Southern</td>\n",
       "      <td>932.0</td>\n",
       "      <td>10.0</td>\n",
       "      <td>D7</td>\n",
       "      <td>Washington Village/Pigtown</td>\n",
       "      <td>Census Tract 2102</td>\n",
       "      <td>NaN</td>\n",
       "      <td>1200 W CROSS ST\\nBALTIMORE, MD\\n(39.281995, -7...</td>\n",
       "      <td>250.0</td>\n",
       "      <td>177.0</td>\n",
       "      <td>27953.0</td>\n",
       "    </tr>\n",
       "    <tr>\n",
       "      <th>1</th>\n",
       "      <td>2334887</td>\n",
       "      <td>P163070732</td>\n",
       "      <td>11/02/2016 09:22:00 AM</td>\n",
       "      <td>High</td>\n",
       "      <td>SW</td>\n",
       "      <td>Traffic Stop</td>\n",
       "      <td>2100 W PRATT ST</td>\n",
       "      <td>21223.0</td>\n",
       "      <td>Carrollton Ridge</td>\n",
       "      <td>Southwestern</td>\n",
       "      <td>841.0</td>\n",
       "      <td>9.0</td>\n",
       "      <td>D8</td>\n",
       "      <td>Southwest Baltimore</td>\n",
       "      <td>Census Tract 2005</td>\n",
       "      <td>Tri-District</td>\n",
       "      <td>2100 W PRATT ST\\nBALTIMORE, MD\\n(39.284965, -7...</td>\n",
       "      <td>36.0</td>\n",
       "      <td>279.0</td>\n",
       "      <td>27632.0</td>\n",
       "    </tr>\n",
       "    <tr>\n",
       "      <th>2</th>\n",
       "      <td>2334245</td>\n",
       "      <td>P163071480</td>\n",
       "      <td>11/02/2016 01:37:00 PM</td>\n",
       "      <td>Low</td>\n",
       "      <td>SE</td>\n",
       "      <td>LARCENY F/AUTO</td>\n",
       "      <td>HOME DEPOT</td>\n",
       "      <td>21224.0</td>\n",
       "      <td>Pulaski Industrial Area</td>\n",
       "      <td>Southeastern</td>\n",
       "      <td>242.0</td>\n",
       "      <td>1.0</td>\n",
       "      <td>D6</td>\n",
       "      <td>Orangeville/East Highlandtown</td>\n",
       "      <td>Census Tract 2605.01</td>\n",
       "      <td>NaN</td>\n",
       "      <td>HOME DEPOT BALTIMORE, MD\\n(39.499699, -76.641403)</td>\n",
       "      <td>NaN</td>\n",
       "      <td>NaN</td>\n",
       "      <td>3490.0</td>\n",
       "    </tr>\n",
       "    <tr>\n",
       "      <th>3</th>\n",
       "      <td>2332907</td>\n",
       "      <td>P163072974</td>\n",
       "      <td>11/02/2016 08:20:00 PM</td>\n",
       "      <td>Medium</td>\n",
       "      <td>ND</td>\n",
       "      <td>911/NO  VOICE</td>\n",
       "      <td>5200 YORK RD</td>\n",
       "      <td>21212.0</td>\n",
       "      <td>York-Homeland</td>\n",
       "      <td>Northern</td>\n",
       "      <td>521.0</td>\n",
       "      <td>4.0</td>\n",
       "      <td>D2</td>\n",
       "      <td>North Baltimore/Guilford/Homeland</td>\n",
       "      <td>Census Tract 2711.01</td>\n",
       "      <td>NaN</td>\n",
       "      <td>5200 YORK RD\\nBALTIMORE, MD\\n(39.352315, -76.6...</td>\n",
       "      <td>273.0</td>\n",
       "      <td>217.0</td>\n",
       "      <td>14009.0</td>\n",
       "    </tr>\n",
       "    <tr>\n",
       "      <th>4</th>\n",
       "      <td>2332699</td>\n",
       "      <td>P163073203</td>\n",
       "      <td>11/02/2016 09:39:00 PM</td>\n",
       "      <td>Medium</td>\n",
       "      <td>NW</td>\n",
       "      <td>COMMON ASSAULT</td>\n",
       "      <td>2500 N ELLAMONT ST</td>\n",
       "      <td>21216.0</td>\n",
       "      <td>Hanlon-Longwood</td>\n",
       "      <td>Northwestern</td>\n",
       "      <td>641.0</td>\n",
       "      <td>7.0</td>\n",
       "      <td>D9</td>\n",
       "      <td>Greater Mondawmin</td>\n",
       "      <td>Census Tract 1507.01</td>\n",
       "      <td>NaN</td>\n",
       "      <td>2500 N ELLAMONT ST\\nBALTIMORE, MD\\n(39.315441,...</td>\n",
       "      <td>103.0</td>\n",
       "      <td>46.0</td>\n",
       "      <td>27297.0</td>\n",
       "    </tr>\n",
       "  </tbody>\n",
       "</table>\n",
       "</div>"
      ],
      "text/plain": [
       "   RecordID  CallNumber            CallDateTime Priority District  \\\n",
       "0   2333660  P163072128  11/02/2016 04:46:00 PM   Medium       SD   \n",
       "1   2334887  P163070732  11/02/2016 09:22:00 AM     High       SW   \n",
       "2   2334245  P163071480  11/02/2016 01:37:00 PM      Low       SE   \n",
       "3   2332907  P163072974  11/02/2016 08:20:00 PM   Medium       ND   \n",
       "4   2332699  P163073203  11/02/2016 09:39:00 PM   Medium       NW   \n",
       "\n",
       "        Description    IncidentLocation  ZipCode                Neighborhood  \\\n",
       "0  NARCOTICSOutside     1200 W CROSS ST  21230.0  Washington Village/Pigtown   \n",
       "1      Traffic Stop     2100 W PRATT ST  21223.0            Carrollton Ridge   \n",
       "2    LARCENY F/AUTO          HOME DEPOT  21224.0     Pulaski Industrial Area   \n",
       "3     911/NO  VOICE        5200 YORK RD  21212.0               York-Homeland   \n",
       "4    COMMON ASSAULT  2500 N ELLAMONT ST  21216.0             Hanlon-Longwood   \n",
       "\n",
       "  PoliceDistrict  PolicePost  CouncilDistrict SheriffDistricts  \\\n",
       "0       Southern       932.0             10.0               D7   \n",
       "1   Southwestern       841.0              9.0               D8   \n",
       "2   Southeastern       242.0              1.0               D6   \n",
       "3       Northern       521.0              4.0               D2   \n",
       "4   Northwestern       641.0              7.0               D9   \n",
       "\n",
       "         Community_Statistical_Areas         Census_Tracts      VRIZones  \\\n",
       "0         Washington Village/Pigtown     Census Tract 2102           NaN   \n",
       "1                Southwest Baltimore     Census Tract 2005  Tri-District   \n",
       "2      Orangeville/East Highlandtown  Census Tract 2605.01           NaN   \n",
       "3  North Baltimore/Guilford/Homeland  Census Tract 2711.01           NaN   \n",
       "4                  Greater Mondawmin  Census Tract 1507.01           NaN   \n",
       "\n",
       "                                            Location  \\\n",
       "0  1200 W CROSS ST\\nBALTIMORE, MD\\n(39.281995, -7...   \n",
       "1  2100 W PRATT ST\\nBALTIMORE, MD\\n(39.284965, -7...   \n",
       "2  HOME DEPOT BALTIMORE, MD\\n(39.499699, -76.641403)   \n",
       "3  5200 YORK RD\\nBALTIMORE, MD\\n(39.352315, -76.6...   \n",
       "4  2500 N ELLAMONT ST\\nBALTIMORE, MD\\n(39.315441,...   \n",
       "\n",
       "   2010 Census Neighborhoods  2010 Census Wards Precincts  Zip Codes  \n",
       "0                      250.0                        177.0    27953.0  \n",
       "1                       36.0                        279.0    27632.0  \n",
       "2                        NaN                          NaN     3490.0  \n",
       "3                      273.0                        217.0    14009.0  \n",
       "4                      103.0                         46.0    27297.0  "
      ]
     },
     "execution_count": 3,
     "metadata": {},
     "output_type": "execute_result"
    }
   ],
   "source": [
    "# reduce overhead while messing with data\n",
    "dat = dat.head(1000)\n",
    "\n",
    "dat.head()"
   ]
  },
  {
   "cell_type": "code",
   "execution_count": 4,
   "metadata": {},
   "outputs": [
    {
     "name": "stdout",
     "output_type": "stream",
     "text": [
      "<class 'pandas.core.frame.DataFrame'>\n",
      "RangeIndex: 1000 entries, 0 to 999\n",
      "Data columns (total 20 columns):\n",
      " #   Column                       Non-Null Count  Dtype  \n",
      "---  ------                       --------------  -----  \n",
      " 0   RecordID                     1000 non-null   int64  \n",
      " 1   CallNumber                   1000 non-null   object \n",
      " 2   CallDateTime                 1000 non-null   object \n",
      " 3   Priority                     1000 non-null   object \n",
      " 4   District                     1000 non-null   object \n",
      " 5   Description                  1000 non-null   object \n",
      " 6   IncidentLocation             1000 non-null   object \n",
      " 7   ZipCode                      994 non-null    float64\n",
      " 8   Neighborhood                 995 non-null    object \n",
      " 9   PoliceDistrict               996 non-null    object \n",
      " 10  PolicePost                   996 non-null    float64\n",
      " 11  CouncilDistrict              996 non-null    float64\n",
      " 12  SheriffDistricts             996 non-null    object \n",
      " 13  Community_Statistical_Areas  995 non-null    object \n",
      " 14  Census_Tracts                996 non-null    object \n",
      " 15  VRIZones                     127 non-null    object \n",
      " 16  Location                     1000 non-null   object \n",
      " 17  2010 Census Neighborhoods    939 non-null    float64\n",
      " 18  2010 Census Wards Precincts  940 non-null    float64\n",
      " 19  Zip Codes                    991 non-null    float64\n",
      "dtypes: float64(6), int64(1), object(13)\n",
      "memory usage: 156.4+ KB\n"
     ]
    }
   ],
   "source": [
    "dat.info()"
   ]
  },
  {
   "cell_type": "code",
   "execution_count": 5,
   "metadata": {},
   "outputs": [],
   "source": [
    "# Add a column for time and insert data\n",
    "time = dat['CallDateTime']\n",
    "times = time.str[11:13]\n",
    "periods = time.str[20:22]\n",
    "\n",
    "#pd.get_dummies(periods)"
   ]
  },
  {
   "cell_type": "code",
   "execution_count": 6,
   "metadata": {},
   "outputs": [],
   "source": [
    "dat.insert(3, \"Hour\", times, True)"
   ]
  },
  {
   "cell_type": "code",
   "execution_count": 7,
   "metadata": {},
   "outputs": [],
   "source": [
    "periods = pd.get_dummies(periods)\n",
    "dat.insert(4, \"AM\", periods['AM'], True)\n",
    "dat.insert(5, \"PM\", periods['PM'], True)"
   ]
  },
  {
   "cell_type": "code",
   "execution_count": 18,
   "metadata": {},
   "outputs": [
    {
     "data": {
      "text/plain": [
       "0             Medium\n",
       "1               High\n",
       "2                Low\n",
       "3             Medium\n",
       "4             Medium\n",
       "           ...      \n",
       "995    Non-Emergency\n",
       "996           Medium\n",
       "997             High\n",
       "998              Low\n",
       "999              Low\n",
       "Name: Priority, Length: 1000, dtype: category\n",
       "Categories (4, object): [Non-Emergency < Low < Medium < High]"
      ]
     },
     "execution_count": 18,
     "metadata": {},
     "output_type": "execute_result"
    }
   ],
   "source": [
    "# Convert priority into categorical data\n",
    "from pandas.api.types import CategoricalDtype\n",
    "\n",
    "priority_cats = CategoricalDtype(categories=['Non-Emergency', 'Low', 'Medium',  'High'], ordered=True)\n",
    "dat['Priority'] = dat['Priority'].astype(priority_cats)\n",
    "\n",
    "dat['Priority']"
   ]
  },
  {
   "cell_type": "code",
   "execution_count": 19,
   "metadata": {},
   "outputs": [
    {
     "name": "stdout",
     "output_type": "stream",
     "text": [
      "<class 'pandas.core.frame.DataFrame'>\n",
      "RangeIndex: 1000 entries, 0 to 999\n",
      "Data columns (total 23 columns):\n",
      " #   Column                       Non-Null Count  Dtype   \n",
      "---  ------                       --------------  -----   \n",
      " 0   RecordID                     1000 non-null   int64   \n",
      " 1   CallNumber                   1000 non-null   object  \n",
      " 2   CallDateTime                 1000 non-null   object  \n",
      " 3   Hour                         1000 non-null   object  \n",
      " 4   AM                           1000 non-null   uint8   \n",
      " 5   PM                           1000 non-null   uint8   \n",
      " 6   Priority                     1000 non-null   category\n",
      " 7   District                     1000 non-null   object  \n",
      " 8   Description                  1000 non-null   object  \n",
      " 9   IncidentLocation             1000 non-null   object  \n",
      " 10  ZipCode                      994 non-null    float64 \n",
      " 11  Neighborhood                 995 non-null    object  \n",
      " 12  PoliceDistrict               996 non-null    object  \n",
      " 13  PolicePost                   996 non-null    float64 \n",
      " 14  CouncilDistrict              996 non-null    float64 \n",
      " 15  SheriffDistricts             996 non-null    object  \n",
      " 16  Community_Statistical_Areas  995 non-null    object  \n",
      " 17  Census_Tracts                996 non-null    object  \n",
      " 18  VRIZones                     127 non-null    object  \n",
      " 19  Location                     1000 non-null   object  \n",
      " 20  2010 Census Neighborhoods    939 non-null    float64 \n",
      " 21  2010 Census Wards Precincts  940 non-null    float64 \n",
      " 22  Zip Codes                    991 non-null    float64 \n",
      "dtypes: category(1), float64(6), int64(1), object(13), uint8(2)\n",
      "memory usage: 159.5+ KB\n"
     ]
    }
   ],
   "source": [
    "dat.info()"
   ]
  },
  {
   "cell_type": "code",
   "execution_count": 35,
   "metadata": {},
   "outputs": [
    {
     "data": {
      "image/png": "[encoded data removed]",
      "text/plain": [
       "<Figure size 432x288 with 1 Axes>"
      ]
     },
     "metadata": {
      "needs_background": "light"
     },
     "output_type": "display_data"
    }
   ],
   "source": [
    "pcount = dat['Priority'].value_counts()\n",
    "\n",
    "fig = plt.figure(figsize=(6,4))\n",
    "pcount.plot(kind='bar')\n",
    "\n",
    "plt.title('Incidents')\n",
    "#plt.ylabel('Number')\n",
    "plt.show()"
   ]
  },
  {
   "cell_type": "code",
   "execution_count": null,
   "metadata": {},
   "outputs": [],
   "source": []
  }
 ],
 "metadata": {
  "kernelspec": {
   "display_name": "Python 3",
   "language": "python",
   "name": "python3"
  },
  "language_info": {
   "codemirror_mode": {
    "name": "ipython",
    "version": 3
   },
   "file_extension": ".py",
   "mimetype": "text/x-python",
   "name": "python",
   "nbconvert_exporter": "python",
   "pygments_lexer": "ipython3",
   "version": "3.8.3"
  }
 },
 "nbformat": 4,
 "nbformat_minor": 4
}
